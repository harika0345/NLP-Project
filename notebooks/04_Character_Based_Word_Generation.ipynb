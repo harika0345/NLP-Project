{
 "cells": [
  {
   "cell_type": "code",
   "execution_count": 1,
   "id": "e468edf8-694c-4751-965a-69a05bcd67b8",
   "metadata": {},
   "outputs": [
    {
     "name": "stdout",
     "output_type": "stream",
     "text": [
      "Imported libraries and fixed random seeds.\n"
     ]
    }
   ],
   "source": [
    "# Import libraries and set random seeds\n",
    "import numpy as np\n",
    "import pandas as pd\n",
    "import torch\n",
    "import torch.nn as nn\n",
    "import torch.optim as optim\n",
    "from torch.utils.data import TensorDataset, DataLoader\n",
    "import random\n",
    "import matplotlib.pyplot as plt\n",
    "from tqdm import tqdm\n",
    "\n",
    "# Ensure reproducibility\n",
    "np.random.seed(42)\n",
    "torch.manual_seed(42)\n",
    "random.seed(42)\n",
    "\n",
    "print(\"Imported libraries and fixed random seeds.\")\n"
   ]
  },
  {
   "cell_type": "code",
   "execution_count": 2,
   "id": "1fe1acf9-ef77-4947-bf24-5a48b579467e",
   "metadata": {},
   "outputs": [
    {
     "name": "stdout",
     "output_type": "stream",
     "text": [
      "Dataset loaded: 52447 rows, columns: ['Unnamed: 0', 'words', 'IPA']\n",
      "First five entries: ['a', 'a', 'a', 'A', 'AA']\n"
     ]
    }
   ],
   "source": [
    "# Load and inspect the orthography dataset\n",
    "df_ortho = pd.read_csv('orthodata.csv')\n",
    "print(f\"Dataset loaded: {df_ortho.shape[0]} rows, columns: {list(df_ortho.columns)}\")\n",
    "print(\"First five entries:\", df_ortho.head()['words'].tolist())\n"
   ]
  },
  {
   "cell_type": "code",
   "execution_count": 3,
   "id": "b0349837-7fcf-4af6-b04b-8549089db5b4",
   "metadata": {},
   "outputs": [
    {
     "name": "stdout",
     "output_type": "stream",
     "text": [
      "Kept 48108 alphabetic words ≥2 chars (with duplicates).\n",
      "After deduplication: 41703 unique words.\n"
     ]
    }
   ],
   "source": [
    "# Filter to alphabetic English words of length ≥2 and deduplicate\n",
    "all_words = df_ortho['words'].dropna().astype(str).str.lower()\n",
    "alpha_words = [w for w in all_words if w.isalpha() and len(w) >= 2]\n",
    "print(f\"Kept {len(alpha_words)} alphabetic words ≥2 chars (with duplicates).\")\n",
    "\n",
    "unique_words = list(set(alpha_words))\n",
    "print(f\"After deduplication: {len(unique_words)} unique words.\")\n"
   ]
  },
  {
   "cell_type": "code",
   "execution_count": 4,
   "id": "244ae656-4fc9-4e9c-9776-f075aab418d8",
   "metadata": {},
   "outputs": [
    {
     "name": "stdout",
     "output_type": "stream",
     "text": [
      "Vocabulary of 28 characters built.\n"
     ]
    }
   ],
   "source": [
    "# Build character vocabulary (including start/end tokens)\n",
    "char_set = set(''.join(unique_words))\n",
    "char_set.update(['<s>', '</s>'])\n",
    "vocab_chars = sorted(char_set)\n",
    "\n",
    "char_to_idx = {ch: i for i, ch in enumerate(vocab_chars)}\n",
    "idx_to_char = {i: ch for ch, i in char_to_idx.items()}\n",
    "\n",
    "print(f\"Vocabulary of {len(vocab_chars)} characters built.\")\n"
   ]
  },
  {
   "cell_type": "code",
   "execution_count": 5,
   "id": "b978f26e-ecde-41d1-a73d-3ccc649ab974",
   "metadata": {},
   "outputs": [
    {
     "name": "stdout",
     "output_type": "stream",
     "text": [
      "Created 353662 training examples.\n",
      "Example context indices: [ 1  1  1  6  2 19] → target index: 9\n"
     ]
    }
   ],
   "source": [
    "# Create CBOW training examples (context→target)\n",
    "context_size = 3\n",
    "contexts, targets = [], []\n",
    "\n",
    "for word in unique_words:\n",
    "    padded = ['<s>']*context_size + list(word) + ['</s>']*context_size\n",
    "    for i in range(context_size, len(padded)-context_size):\n",
    "        left  = padded[i-context_size:i]\n",
    "        right = padded[i+1:i+1+context_size]\n",
    "        ctx   = left + right\n",
    "        tgt   = padded[i]\n",
    "        contexts.append([char_to_idx[c] for c in ctx])\n",
    "        targets.append(char_to_idx[tgt])\n",
    "\n",
    "contexts = np.array(contexts, dtype=np.int64)\n",
    "targets  = np.array(targets,  dtype=np.int64)\n",
    "print(f\"Created {len(targets)} training examples.\")\n",
    "print(\"Example context indices:\", contexts[0], \"→ target index:\", targets[0])\n"
   ]
  },
  {
   "cell_type": "code",
   "execution_count": 6,
   "id": "1783e20b-40fc-4b64-b74e-ea080afff60b",
   "metadata": {},
   "outputs": [
    {
     "name": "stdout",
     "output_type": "stream",
     "text": [
      "Train batches: 1244, Validation batches: 139\n"
     ]
    }
   ],
   "source": [
    "# Wrap data into DataLoaders (90% train / 10% validation)\n",
    "batch_size = 256\n",
    "\n",
    "tensor_ctx = torch.tensor(contexts, dtype=torch.long)\n",
    "tensor_tgt = torch.tensor(targets, dtype=torch.long)\n",
    "dataset    = TensorDataset(tensor_ctx, tensor_tgt)\n",
    "\n",
    "split = int(len(dataset)*0.9)\n",
    "train_ds = torch.utils.data.Subset(dataset, list(range(split)))\n",
    "valid_ds = torch.utils.data.Subset(dataset, list(range(split, len(dataset))))\n",
    "\n",
    "train_loader = DataLoader(train_ds, batch_size=batch_size, shuffle=True)\n",
    "valid_loader = DataLoader(valid_ds, batch_size=batch_size)\n",
    "\n",
    "print(f\"Train batches: {len(train_loader)}, Validation batches: {len(valid_loader)}\")\n"
   ]
  },
  {
   "cell_type": "code",
   "execution_count": 7,
   "id": "43f96b3b-f850-414c-80aa-007725839b02",
   "metadata": {},
   "outputs": [
    {
     "name": "stdout",
     "output_type": "stream",
     "text": [
      "Model and optimizer set up:\n",
      "  Embedding(28, 50)\n",
      "  Linear(in_features=300, out_features=128, bias=True) → ReLU() → Dropout(p=0.2, inplace=False) → Linear(in_features=128, out_features=28, bias=True)\n"
     ]
    }
   ],
   "source": [
    "# Initialize embedding-based CBOW model and optimizer\n",
    "vocab_size    = len(char_to_idx)\n",
    "embed_dim     = 50\n",
    "hidden_dim    = 128\n",
    "\n",
    "embed_layer = nn.Embedding(vocab_size, embed_dim)\n",
    "fc1_layer   = nn.Linear(2*context_size*embed_dim, hidden_dim)\n",
    "relu        = nn.ReLU()\n",
    "dropout     = nn.Dropout(0.2)\n",
    "fc2_layer   = nn.Linear(hidden_dim, vocab_size)\n",
    "\n",
    "criterion   = nn.CrossEntropyLoss()\n",
    "optimizer   = optim.Adam(\n",
    "    list(embed_layer.parameters()) +\n",
    "    list(fc1_layer.parameters()) +\n",
    "    list(fc2_layer.parameters()),\n",
    "    lr=1e-3\n",
    ")\n",
    "\n",
    "print(\"Model and optimizer set up:\")\n",
    "print(\" \", embed_layer)\n",
    "print(\" \", fc1_layer, \"→\", relu, \"→\", dropout, \"→\", fc2_layer)\n"
   ]
  },
  {
   "cell_type": "code",
   "execution_count": 8,
   "id": "b0b33d70-37a5-4f6d-a0bc-bb02f1a27035",
   "metadata": {},
   "outputs": [
    {
     "name": "stderr",
     "output_type": "stream",
     "text": [
      "Epoch 1 training: 100%|███████████████████████████████████████████████████████████████████| 1244/1244 [00:17<00:00, 72.79it/s]\n"
     ]
    },
    {
     "name": "stdout",
     "output_type": "stream",
     "text": [
      "Epoch 1: train_loss=1.9252, valid_loss=1.7649\n"
     ]
    },
    {
     "name": "stderr",
     "output_type": "stream",
     "text": [
      "Epoch 2 training: 100%|███████████████████████████████████████████████████████████████████| 1244/1244 [00:16<00:00, 73.25it/s]\n"
     ]
    },
    {
     "name": "stdout",
     "output_type": "stream",
     "text": [
      "Epoch 2: train_loss=1.6929, valid_loss=1.6907\n"
     ]
    },
    {
     "name": "stderr",
     "output_type": "stream",
     "text": [
      "Epoch 3 training: 100%|███████████████████████████████████████████████████████████████████| 1244/1244 [00:17<00:00, 71.27it/s]\n"
     ]
    },
    {
     "name": "stdout",
     "output_type": "stream",
     "text": [
      "Epoch 3: train_loss=1.6354, valid_loss=1.6612\n"
     ]
    },
    {
     "name": "stderr",
     "output_type": "stream",
     "text": [
      "Epoch 4 training: 100%|███████████████████████████████████████████████████████████████████| 1244/1244 [00:18<00:00, 67.12it/s]\n"
     ]
    },
    {
     "name": "stdout",
     "output_type": "stream",
     "text": [
      "Epoch 4: train_loss=1.6051, valid_loss=1.6393\n"
     ]
    },
    {
     "name": "stderr",
     "output_type": "stream",
     "text": [
      "Epoch 5 training: 100%|███████████████████████████████████████████████████████████████████| 1244/1244 [00:18<00:00, 68.90it/s]\n"
     ]
    },
    {
     "name": "stdout",
     "output_type": "stream",
     "text": [
      "Epoch 5: train_loss=1.5836, valid_loss=1.6284\n"
     ]
    },
    {
     "name": "stderr",
     "output_type": "stream",
     "text": [
      "Epoch 6 training: 100%|███████████████████████████████████████████████████████████████████| 1244/1244 [00:17<00:00, 69.74it/s]\n"
     ]
    },
    {
     "name": "stdout",
     "output_type": "stream",
     "text": [
      "Epoch 6: train_loss=1.5700, valid_loss=1.6162\n"
     ]
    },
    {
     "name": "stderr",
     "output_type": "stream",
     "text": [
      "Epoch 7 training: 100%|███████████████████████████████████████████████████████████████████| 1244/1244 [00:18<00:00, 68.76it/s]\n"
     ]
    },
    {
     "name": "stdout",
     "output_type": "stream",
     "text": [
      "Epoch 7: train_loss=1.5588, valid_loss=1.6072\n"
     ]
    },
    {
     "name": "stderr",
     "output_type": "stream",
     "text": [
      "Epoch 8 training: 100%|███████████████████████████████████████████████████████████████████| 1244/1244 [00:18<00:00, 68.33it/s]\n"
     ]
    },
    {
     "name": "stdout",
     "output_type": "stream",
     "text": [
      "Epoch 8: train_loss=1.5502, valid_loss=1.6012\n"
     ]
    },
    {
     "name": "stderr",
     "output_type": "stream",
     "text": [
      "Epoch 9 training: 100%|███████████████████████████████████████████████████████████████████| 1244/1244 [00:16<00:00, 74.22it/s]\n"
     ]
    },
    {
     "name": "stdout",
     "output_type": "stream",
     "text": [
      "Epoch 9: train_loss=1.5412, valid_loss=1.5999\n"
     ]
    },
    {
     "name": "stderr",
     "output_type": "stream",
     "text": [
      "Epoch 10 training: 100%|██████████████████████████████████████████████████████████████████| 1244/1244 [00:18<00:00, 69.06it/s]\n"
     ]
    },
    {
     "name": "stdout",
     "output_type": "stream",
     "text": [
      "Epoch 10: train_loss=1.5341, valid_loss=1.5984\n"
     ]
    },
    {
     "name": "stderr",
     "output_type": "stream",
     "text": [
      "Epoch 11 training: 100%|██████████████████████████████████████████████████████████████████| 1244/1244 [00:16<00:00, 74.17it/s]\n"
     ]
    },
    {
     "name": "stdout",
     "output_type": "stream",
     "text": [
      "Epoch 11: train_loss=1.5295, valid_loss=1.5884\n"
     ]
    },
    {
     "name": "stderr",
     "output_type": "stream",
     "text": [
      "Epoch 12 training: 100%|██████████████████████████████████████████████████████████████████| 1244/1244 [00:18<00:00, 68.20it/s]\n"
     ]
    },
    {
     "name": "stdout",
     "output_type": "stream",
     "text": [
      "Epoch 12: train_loss=1.5253, valid_loss=1.5920\n"
     ]
    },
    {
     "name": "stderr",
     "output_type": "stream",
     "text": [
      "Epoch 13 training: 100%|██████████████████████████████████████████████████████████████████| 1244/1244 [00:18<00:00, 68.08it/s]\n"
     ]
    },
    {
     "name": "stdout",
     "output_type": "stream",
     "text": [
      "Epoch 13: train_loss=1.5210, valid_loss=1.5841\n"
     ]
    },
    {
     "name": "stderr",
     "output_type": "stream",
     "text": [
      "Epoch 14 training: 100%|██████████████████████████████████████████████████████████████████| 1244/1244 [00:18<00:00, 67.35it/s]\n"
     ]
    },
    {
     "name": "stdout",
     "output_type": "stream",
     "text": [
      "Epoch 14: train_loss=1.5185, valid_loss=1.5835\n"
     ]
    },
    {
     "name": "stderr",
     "output_type": "stream",
     "text": [
      "Epoch 15 training: 100%|██████████████████████████████████████████████████████████████████| 1244/1244 [00:18<00:00, 68.10it/s]\n"
     ]
    },
    {
     "name": "stdout",
     "output_type": "stream",
     "text": [
      "Epoch 15: train_loss=1.5155, valid_loss=1.5823\n"
     ]
    }
   ],
   "source": [
    "# Training loop: train & validate over epochs\n",
    "num_epochs = 15\n",
    "train_losses = []\n",
    "valid_losses = []\n",
    "\n",
    "for epoch in range(1, num_epochs+1):\n",
    "    # Training phase\n",
    "    embed_layer.train(); fc1_layer.train(); fc2_layer.train()\n",
    "    running_train = 0.0\n",
    "    for ctx_batch, tgt_batch in tqdm(train_loader, desc=f\"Epoch {epoch} training\"):\n",
    "        optimizer.zero_grad()\n",
    "        embeds = embed_layer(ctx_batch).view(ctx_batch.size(0), -1)\n",
    "        hidden = relu(fc1_layer(embeds))\n",
    "        hidden = dropout(hidden)\n",
    "        logits = fc2_layer(hidden)\n",
    "        loss   = criterion(logits, tgt_batch)\n",
    "        loss.backward()\n",
    "        optimizer.step()\n",
    "        running_train += loss.item() * ctx_batch.size(0)\n",
    "    avg_train = running_train / len(train_ds)\n",
    "    train_losses.append(avg_train)\n",
    "\n",
    "    # Validation phase\n",
    "    embed_layer.eval(); fc1_layer.eval(); fc2_layer.eval()\n",
    "    running_valid = 0.0\n",
    "    with torch.no_grad():\n",
    "        for ctx_batch, tgt_batch in valid_loader:\n",
    "            embeds = embed_layer(ctx_batch).view(ctx_batch.size(0), -1)\n",
    "            hidden = relu(fc1_layer(embeds))\n",
    "            hidden = dropout(hidden)\n",
    "            logits = fc2_layer(hidden)\n",
    "            running_valid += criterion(logits, tgt_batch).item() * ctx_batch.size(0)\n",
    "    avg_valid = running_valid / len(valid_ds)\n",
    "    valid_losses.append(avg_valid)\n",
    "\n",
    "    print(f\"Epoch {epoch}: train_loss={avg_train:.4f}, valid_loss={avg_valid:.4f}\")\n"
   ]
  },
  {
   "cell_type": "code",
   "execution_count": 9,
   "id": "8c824d2f-72c3-4770-bded-4ef682f8c200",
   "metadata": {},
   "outputs": [
    {
     "data": {
      "image/png": "[encoded data removed]",
      "text/plain": [
       "<Figure size 800x500 with 1 Axes>"
      ]
     },
     "metadata": {},
     "output_type": "display_data"
    }
   ],
   "source": [
    "# Plot training and validation loss curves\n",
    "plt.figure(figsize=(8,5))\n",
    "plt.plot(train_losses, label='Training Loss')\n",
    "plt.plot(valid_losses, label='Validation Loss')\n",
    "plt.xlabel('Epoch')\n",
    "plt.ylabel('Loss')\n",
    "plt.title('CBOW Training vs. Validation Loss')\n",
    "plt.legend()\n",
    "plt.show()\n"
   ]
  },
  {
   "cell_type": "code",
   "execution_count": 10,
   "id": "669c3f99-8379-473b-9eb1-1744bb32a67f",
   "metadata": {},
   "outputs": [
    {
     "name": "stdout",
     "output_type": "stream",
     "text": [
      "Generated words beginning with 't':\n",
      "  tordforbeelmseri\n",
      "  theacherchunbory\n",
      "  talimplosivitipa\n",
      "  togotseneconsper\n",
      "  taragfluteaurjou\n"
     ]
    }
   ],
   "source": [
    "# Generate five words starting with 't' by sampling from the model\n",
    "print(\"Generated words beginning with 't':\")\n",
    "for i in range(5):\n",
    "    generated = ['t']\n",
    "    context_buf = ['<s>']*context_size + ['t']\n",
    "    for _ in range(15):\n",
    "        ctx_tokens = context_buf[-context_size:] + context_buf[-context_size:]\n",
    "        ctx_tensor = torch.tensor([[char_to_idx[ch] for ch in ctx_tokens]], dtype=torch.long)\n",
    "        with torch.no_grad():\n",
    "            logits = fc2_layer(dropout(relu(fc1_layer(embed_layer(ctx_tensor).view(1, -1)))))\n",
    "            probs  = torch.softmax(logits, dim=1)\n",
    "            idx    = torch.multinomial(probs[0], 1).item()\n",
    "        char = idx_to_char[idx]\n",
    "        if char == '</s>': break\n",
    "        generated.append(char)\n",
    "        context_buf.append(char)\n",
    "    print(\" \", \"\".join(generated))\n"
   ]
  }
 ],
 "metadata": {
  "kernelspec": {
   "display_name": "Python 3 (ipykernel)",
   "language": "python",
   "name": "python3"
  },
  "language_info": {
   "codemirror_mode": {
    "name": "ipython",
    "version": 3
   },
   "file_extension": ".py",
   "mimetype": "text/x-python",
   "name": "python",
   "nbconvert_exporter": "python",
   "pygments_lexer": "ipython3",
   "version": "3.11.2"
  }
 },
 "nbformat": 4,
 "nbformat_minor": 5
}
